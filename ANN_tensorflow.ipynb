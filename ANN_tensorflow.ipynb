{
 "cells": [
  {
   "cell_type": "markdown",
   "metadata": {},
   "source": [
    "# Artificial Neural Networks [NN1] using keras in tensorflow"
   ]
  },
  {
   "cell_type": "markdown",
   "metadata": {},
   "source": [
    "1. Linear Function: \n",
    "\n",
    "Formula: ![\"linear\"](imgs/linear.png)\n",
    "\n",
    "Often used in regression problems where the network needs to predict a continuous value."
   ]
  },
  {
   "cell_type": "markdown",
   "metadata": {},
   "source": [
    "![\"activation_function_linear\"](imgs/activation_function_linear.png)"
   ]
  },
  {
   "cell_type": "markdown",
   "metadata": {},
   "source": [
    "2. Exponential Linear Unit (ELU):\n",
    "\n",
    "Formula: ![\"elu\"](imgs/elu.png)\n",
    " \n",
    "Smooth for negative inputs, aims to capture information from all regions of the input space."
   ]
  },
  {
   "cell_type": "markdown",
   "metadata": {},
   "source": [
    "![\"activation_function_elu\"](imgs/activation_function_elu.png)"
   ]
  },
  {
   "cell_type": "markdown",
   "metadata": {},
   "source": [
    "3. Sigmoid Function:\n",
    "\n",
    "Formula: ![\"Sigmoid\"](imgs/Sigmoid.png)\n",
    " \n",
    "Output range: (0, 1)\n",
    "\n",
    "​Often used in the output layer of binary classification problems.\n",
    "\n",
    "\n",
    "\n",
    "+ Why use sigmoid function? \n",
    "\n",
    "In `step function` are `0.1 >round> 1` and `0.9 >round> 1`\n",
    "\n",
    "it's problem for training neural network, so we use sigmoid function..\n"
   ]
  },
  {
   "cell_type": "markdown",
   "metadata": {},
   "source": [
    "![\"activation_function_sigmoid\"](imgs/activation_function_sigmoid.png)"
   ]
  },
  {
   "cell_type": "markdown",
   "metadata": {},
   "source": [
    "4. Hyperbolic Tangent Function (tanh):\n",
    "\n",
    "Formula: ![\"tanh\"](imgs/tanh.png)\n",
    "or f(x) = tanh(x)\n",
    "\n",
    "Output range: (-1, 1)\n",
    "\n",
    "Similar to the sigmoid but with an output range from -1 to 1.."
   ]
  },
  {
   "cell_type": "markdown",
   "metadata": {},
   "source": [
    "![\"activation_function_tanh\"](imgs/activation_function_tanh.png)"
   ]
  },
  {
   "cell_type": "markdown",
   "metadata": {},
   "source": [
    "5. Softmax Function:\n",
    "\n",
    "Formula: ![\"Softmax\"](imgs/Softmax.png)\n",
    "\n",
    "Used in the output layer for `multi-class classification` problems.\n",
    "\n",
    "Converts raw scores into probabilities, ensuring they sum to 1."
   ]
  },
  {
   "cell_type": "markdown",
   "metadata": {},
   "source": [
    "![\"activation_function_softmax\"](imgs/activation_function_softmax.png)"
   ]
  },
  {
   "cell_type": "markdown",
   "metadata": {},
   "source": [
    "Example: ![\"activation_function_softmax_2\"](imgs/activation_function_softmax_2.png)"
   ]
  },
  {
   "cell_type": "markdown",
   "metadata": {},
   "source": [
    "# use tensorflow: "
   ]
  },
  {
   "cell_type": "code",
   "execution_count": 25,
   "metadata": {},
   "outputs": [],
   "source": [
    "import pandas as pd"
   ]
  },
  {
   "cell_type": "code",
   "execution_count": 26,
   "metadata": {},
   "outputs": [
    {
     "data": {
      "text/html": [
       "<div>\n",
       "<style scoped>\n",
       "    .dataframe tbody tr th:only-of-type {\n",
       "        vertical-align: middle;\n",
       "    }\n",
       "\n",
       "    .dataframe tbody tr th {\n",
       "        vertical-align: top;\n",
       "    }\n",
       "\n",
       "    .dataframe thead th {\n",
       "        text-align: right;\n",
       "    }\n",
       "</style>\n",
       "<table border=\"1\" class=\"dataframe\">\n",
       "  <thead>\n",
       "    <tr style=\"text-align: right;\">\n",
       "      <th></th>\n",
       "      <th>CRIM</th>\n",
       "      <th>ZN</th>\n",
       "      <th>INDUS</th>\n",
       "      <th>CHAS</th>\n",
       "      <th>NOX</th>\n",
       "      <th>RM</th>\n",
       "      <th>AGE</th>\n",
       "      <th>DIS</th>\n",
       "      <th>RAD</th>\n",
       "      <th>TAX</th>\n",
       "      <th>PTRATIO</th>\n",
       "      <th>B</th>\n",
       "      <th>LSTAT</th>\n",
       "      <th>MEDV</th>\n",
       "    </tr>\n",
       "  </thead>\n",
       "  <tbody>\n",
       "    <tr>\n",
       "      <th>0</th>\n",
       "      <td>0.00632</td>\n",
       "      <td>18.0</td>\n",
       "      <td>2.31</td>\n",
       "      <td>0.0</td>\n",
       "      <td>0.538</td>\n",
       "      <td>6.575</td>\n",
       "      <td>65.2</td>\n",
       "      <td>4.0900</td>\n",
       "      <td>1</td>\n",
       "      <td>296</td>\n",
       "      <td>15.3</td>\n",
       "      <td>396.90</td>\n",
       "      <td>4.98</td>\n",
       "      <td>24.0</td>\n",
       "    </tr>\n",
       "    <tr>\n",
       "      <th>1</th>\n",
       "      <td>0.02731</td>\n",
       "      <td>0.0</td>\n",
       "      <td>7.07</td>\n",
       "      <td>0.0</td>\n",
       "      <td>0.469</td>\n",
       "      <td>6.421</td>\n",
       "      <td>78.9</td>\n",
       "      <td>4.9671</td>\n",
       "      <td>2</td>\n",
       "      <td>242</td>\n",
       "      <td>17.8</td>\n",
       "      <td>396.90</td>\n",
       "      <td>9.14</td>\n",
       "      <td>21.6</td>\n",
       "    </tr>\n",
       "    <tr>\n",
       "      <th>2</th>\n",
       "      <td>0.02729</td>\n",
       "      <td>0.0</td>\n",
       "      <td>7.07</td>\n",
       "      <td>0.0</td>\n",
       "      <td>0.469</td>\n",
       "      <td>7.185</td>\n",
       "      <td>61.1</td>\n",
       "      <td>4.9671</td>\n",
       "      <td>2</td>\n",
       "      <td>242</td>\n",
       "      <td>17.8</td>\n",
       "      <td>392.83</td>\n",
       "      <td>4.03</td>\n",
       "      <td>34.7</td>\n",
       "    </tr>\n",
       "    <tr>\n",
       "      <th>3</th>\n",
       "      <td>0.03237</td>\n",
       "      <td>0.0</td>\n",
       "      <td>2.18</td>\n",
       "      <td>0.0</td>\n",
       "      <td>0.458</td>\n",
       "      <td>6.998</td>\n",
       "      <td>45.8</td>\n",
       "      <td>6.0622</td>\n",
       "      <td>3</td>\n",
       "      <td>222</td>\n",
       "      <td>18.7</td>\n",
       "      <td>394.63</td>\n",
       "      <td>2.94</td>\n",
       "      <td>33.4</td>\n",
       "    </tr>\n",
       "    <tr>\n",
       "      <th>4</th>\n",
       "      <td>0.06905</td>\n",
       "      <td>0.0</td>\n",
       "      <td>2.18</td>\n",
       "      <td>0.0</td>\n",
       "      <td>0.458</td>\n",
       "      <td>7.147</td>\n",
       "      <td>54.2</td>\n",
       "      <td>6.0622</td>\n",
       "      <td>3</td>\n",
       "      <td>222</td>\n",
       "      <td>18.7</td>\n",
       "      <td>396.90</td>\n",
       "      <td>NaN</td>\n",
       "      <td>36.2</td>\n",
       "    </tr>\n",
       "  </tbody>\n",
       "</table>\n",
       "</div>"
      ],
      "text/plain": [
       "      CRIM    ZN  INDUS  CHAS    NOX     RM   AGE     DIS  RAD  TAX  PTRATIO  \\\n",
       "0  0.00632  18.0   2.31   0.0  0.538  6.575  65.2  4.0900    1  296     15.3   \n",
       "1  0.02731   0.0   7.07   0.0  0.469  6.421  78.9  4.9671    2  242     17.8   \n",
       "2  0.02729   0.0   7.07   0.0  0.469  7.185  61.1  4.9671    2  242     17.8   \n",
       "3  0.03237   0.0   2.18   0.0  0.458  6.998  45.8  6.0622    3  222     18.7   \n",
       "4  0.06905   0.0   2.18   0.0  0.458  7.147  54.2  6.0622    3  222     18.7   \n",
       "\n",
       "        B  LSTAT  MEDV  \n",
       "0  396.90   4.98  24.0  \n",
       "1  396.90   9.14  21.6  \n",
       "2  392.83   4.03  34.7  \n",
       "3  394.63   2.94  33.4  \n",
       "4  396.90    NaN  36.2  "
      ]
     },
     "execution_count": 26,
     "metadata": {},
     "output_type": "execute_result"
    }
   ],
   "source": [
    "df = pd.read_csv(r'datasets/HousingData.csv')\n",
    "df.head()"
   ]
  },
  {
   "cell_type": "code",
   "execution_count": 27,
   "metadata": {},
   "outputs": [
    {
     "data": {
      "text/plain": [
       "CRIM       20\n",
       "ZN         20\n",
       "INDUS      20\n",
       "CHAS       20\n",
       "NOX         0\n",
       "RM          0\n",
       "AGE        20\n",
       "DIS         0\n",
       "RAD         0\n",
       "TAX         0\n",
       "PTRATIO     0\n",
       "B           0\n",
       "LSTAT      20\n",
       "MEDV        0\n",
       "dtype: int64"
      ]
     },
     "execution_count": 27,
     "metadata": {},
     "output_type": "execute_result"
    }
   ],
   "source": [
    "df.isna().sum()"
   ]
  },
  {
   "cell_type": "code",
   "execution_count": 28,
   "metadata": {},
   "outputs": [],
   "source": [
    "df.dropna(inplace=True)"
   ]
  },
  {
   "cell_type": "code",
   "execution_count": 29,
   "metadata": {},
   "outputs": [],
   "source": [
    "from sklearn.preprocessing import StandardScaler\n",
    "from sklearn.model_selection import train_test_split\n"
   ]
  },
  {
   "cell_type": "code",
   "execution_count": 30,
   "metadata": {},
   "outputs": [],
   "source": [
    "x = df.drop(['MEDV'], axis= 1 )\n",
    "y = df['MEDV']"
   ]
  },
  {
   "cell_type": "code",
   "execution_count": 31,
   "metadata": {},
   "outputs": [],
   "source": [
    "scaler = StandardScaler()\n",
    "cols = x.columns # to save name of cols\n",
    "x = scaler.fit_transform(x) \n",
    "x = pd.DataFrame(x, columns=cols)"
   ]
  },
  {
   "cell_type": "code",
   "execution_count": 32,
   "metadata": {},
   "outputs": [
    {
     "data": {
      "text/plain": [
       "(315, 13)"
      ]
     },
     "execution_count": 32,
     "metadata": {},
     "output_type": "execute_result"
    }
   ],
   "source": [
    "x_train, x_test, y_train, y_test = train_test_split(x, y, test_size=0.2)\n",
    "x_train.shape"
   ]
  },
  {
   "cell_type": "code",
   "execution_count": 33,
   "metadata": {},
   "outputs": [
    {
     "data": {
      "text/plain": [
       "(315,)"
      ]
     },
     "execution_count": 33,
     "metadata": {},
     "output_type": "execute_result"
    }
   ],
   "source": [
    "y_train.shape"
   ]
  },
  {
   "cell_type": "code",
   "execution_count": 34,
   "metadata": {},
   "outputs": [
    {
     "data": {
      "text/plain": [
       "(79, 13)"
      ]
     },
     "execution_count": 34,
     "metadata": {},
     "output_type": "execute_result"
    }
   ],
   "source": [
    "x_test.shape"
   ]
  },
  {
   "cell_type": "code",
   "execution_count": 35,
   "metadata": {},
   "outputs": [
    {
     "data": {
      "text/plain": [
       "(79,)"
      ]
     },
     "execution_count": 35,
     "metadata": {},
     "output_type": "execute_result"
    }
   ],
   "source": [
    "y_test.shape"
   ]
  },
  {
   "cell_type": "markdown",
   "metadata": {},
   "source": [
    "data with cols"
   ]
  },
  {
   "cell_type": "code",
   "execution_count": 36,
   "metadata": {},
   "outputs": [
    {
     "data": {
      "text/html": [
       "<div>\n",
       "<style scoped>\n",
       "    .dataframe tbody tr th:only-of-type {\n",
       "        vertical-align: middle;\n",
       "    }\n",
       "\n",
       "    .dataframe tbody tr th {\n",
       "        vertical-align: top;\n",
       "    }\n",
       "\n",
       "    .dataframe thead th {\n",
       "        text-align: right;\n",
       "    }\n",
       "</style>\n",
       "<table border=\"1\" class=\"dataframe\">\n",
       "  <thead>\n",
       "    <tr style=\"text-align: right;\">\n",
       "      <th></th>\n",
       "      <th>CRIM</th>\n",
       "      <th>ZN</th>\n",
       "      <th>INDUS</th>\n",
       "      <th>CHAS</th>\n",
       "      <th>NOX</th>\n",
       "      <th>RM</th>\n",
       "      <th>AGE</th>\n",
       "      <th>DIS</th>\n",
       "      <th>RAD</th>\n",
       "      <th>TAX</th>\n",
       "      <th>PTRATIO</th>\n",
       "      <th>B</th>\n",
       "      <th>LSTAT</th>\n",
       "    </tr>\n",
       "  </thead>\n",
       "  <tbody>\n",
       "    <tr>\n",
       "      <th>157</th>\n",
       "      <td>-0.397406</td>\n",
       "      <td>2.864918</td>\n",
       "      <td>-1.374120</td>\n",
       "      <td>-0.271237</td>\n",
       "      <td>-1.320855</td>\n",
       "      <td>1.425888</td>\n",
       "      <td>-1.099789</td>\n",
       "      <td>1.671703</td>\n",
       "      <td>-0.858633</td>\n",
       "      <td>-0.460631</td>\n",
       "      <td>-2.744160</td>\n",
       "      <td>0.378032</td>\n",
       "      <td>-0.842442</td>\n",
       "    </tr>\n",
       "    <tr>\n",
       "      <th>84</th>\n",
       "      <td>-0.394042</td>\n",
       "      <td>-0.479051</td>\n",
       "      <td>-1.175557</td>\n",
       "      <td>-0.271237</td>\n",
       "      <td>-0.957923</td>\n",
       "      <td>1.629590</td>\n",
       "      <td>-0.230951</td>\n",
       "      <td>-0.147940</td>\n",
       "      <td>-0.858633</td>\n",
       "      <td>-0.775922</td>\n",
       "      <td>-0.248445</td>\n",
       "      <td>0.430740</td>\n",
       "      <td>-0.901353</td>\n",
       "    </tr>\n",
       "    <tr>\n",
       "      <th>183</th>\n",
       "      <td>-0.352771</td>\n",
       "      <td>-0.479051</td>\n",
       "      <td>-0.695818</td>\n",
       "      <td>3.686813</td>\n",
       "      <td>-0.409099</td>\n",
       "      <td>0.639773</td>\n",
       "      <td>-0.087341</td>\n",
       "      <td>-0.073175</td>\n",
       "      <td>-0.162778</td>\n",
       "      <td>-0.591507</td>\n",
       "      <td>-0.525747</td>\n",
       "      <td>0.019166</td>\n",
       "      <td>-0.646529</td>\n",
       "    </tr>\n",
       "    <tr>\n",
       "      <th>283</th>\n",
       "      <td>-0.001297</td>\n",
       "      <td>-0.479051</td>\n",
       "      <td>1.028921</td>\n",
       "      <td>-0.271237</td>\n",
       "      <td>1.918976</td>\n",
       "      <td>-1.316909</td>\n",
       "      <td>0.978960</td>\n",
       "      <td>-0.811901</td>\n",
       "      <td>1.692835</td>\n",
       "      <td>1.544144</td>\n",
       "      <td>0.768327</td>\n",
       "      <td>0.250074</td>\n",
       "      <td>-0.353344</td>\n",
       "    </tr>\n",
       "    <tr>\n",
       "      <th>179</th>\n",
       "      <td>-0.356637</td>\n",
       "      <td>-0.479051</td>\n",
       "      <td>-0.695818</td>\n",
       "      <td>-0.271237</td>\n",
       "      <td>-0.435655</td>\n",
       "      <td>1.266657</td>\n",
       "      <td>0.393751</td>\n",
       "      <td>-0.281295</td>\n",
       "      <td>-0.162778</td>\n",
       "      <td>-0.591507</td>\n",
       "      <td>-0.525747</td>\n",
       "      <td>0.152395</td>\n",
       "      <td>-0.878063</td>\n",
       "    </tr>\n",
       "  </tbody>\n",
       "</table>\n",
       "</div>"
      ],
      "text/plain": [
       "         CRIM        ZN     INDUS      CHAS       NOX        RM       AGE  \\\n",
       "157 -0.397406  2.864918 -1.374120 -0.271237 -1.320855  1.425888 -1.099789   \n",
       "84  -0.394042 -0.479051 -1.175557 -0.271237 -0.957923  1.629590 -0.230951   \n",
       "183 -0.352771 -0.479051 -0.695818  3.686813 -0.409099  0.639773 -0.087341   \n",
       "283 -0.001297 -0.479051  1.028921 -0.271237  1.918976 -1.316909  0.978960   \n",
       "179 -0.356637 -0.479051 -0.695818 -0.271237 -0.435655  1.266657  0.393751   \n",
       "\n",
       "          DIS       RAD       TAX   PTRATIO         B     LSTAT  \n",
       "157  1.671703 -0.858633 -0.460631 -2.744160  0.378032 -0.842442  \n",
       "84  -0.147940 -0.858633 -0.775922 -0.248445  0.430740 -0.901353  \n",
       "183 -0.073175 -0.162778 -0.591507 -0.525747  0.019166 -0.646529  \n",
       "283 -0.811901  1.692835  1.544144  0.768327  0.250074 -0.353344  \n",
       "179 -0.281295 -0.162778 -0.591507 -0.525747  0.152395 -0.878063  "
      ]
     },
     "execution_count": 36,
     "metadata": {},
     "output_type": "execute_result"
    }
   ],
   "source": [
    "x_train.head()"
   ]
  },
  {
   "cell_type": "markdown",
   "metadata": {},
   "source": [
    "Build neural network using tensorflow"
   ]
  },
  {
   "cell_type": "code",
   "execution_count": 37,
   "metadata": {},
   "outputs": [],
   "source": [
    "import tensorflow as tf"
   ]
  },
  {
   "cell_type": "code",
   "execution_count": 38,
   "metadata": {},
   "outputs": [
    {
     "data": {
      "text/plain": [
       "'2.13.0'"
      ]
     },
     "execution_count": 38,
     "metadata": {},
     "output_type": "execute_result"
    }
   ],
   "source": [
    "tf.__version__"
   ]
  },
  {
   "cell_type": "code",
   "execution_count": 39,
   "metadata": {},
   "outputs": [],
   "source": [
    "from tensorflow.keras import layers, models"
   ]
  },
  {
   "cell_type": "code",
   "execution_count": 40,
   "metadata": {},
   "outputs": [
    {
     "name": "stdout",
     "output_type": "stream",
     "text": [
      "Model: \"sequential_3\"\n",
      "_________________________________________________________________\n",
      " Layer (type)                Output Shape              Param #   \n",
      "=================================================================\n",
      " dense_2 (Dense)             (None, 32)                448       \n",
      "                                                                 \n",
      " dense_3 (Dense)             (None, 1)                 33        \n",
      "                                                                 \n",
      "=================================================================\n",
      "Total params: 481 (1.88 KB)\n",
      "Trainable params: 481 (1.88 KB)\n",
      "Non-trainable params: 0 (0.00 Byte)\n",
      "_________________________________________________________________\n"
     ]
    }
   ],
   "source": [
    "model = models.Sequential()\n",
    "# 13 input feature \n",
    "model.add(layers.Dense(32, \n",
    "                       activation= 'sigmoid', \n",
    "                       input_shape= (x_train.shape[1],)))\n",
    "model.add(layers.Dense(1, \n",
    "                       activation= 'linear'))\n",
    "model.summary()"
   ]
  },
  {
   "cell_type": "code",
   "execution_count": 41,
   "metadata": {},
   "outputs": [],
   "source": [
    "model.compile(\n",
    "    optimizer = 'sgd',\n",
    "    loss = 'mean_squared_error'\n",
    ")"
   ]
  },
  {
   "cell_type": "code",
   "execution_count": 42,
   "metadata": {},
   "outputs": [
    {
     "name": "stdout",
     "output_type": "stream",
     "text": [
      "Epoch 1/20\n",
      " 1/10 [==>...........................] - ETA: 12s - loss: 659.8425"
     ]
    },
    {
     "name": "stdout",
     "output_type": "stream",
     "text": [
      "10/10 [==============================] - 2s 73ms/step - loss: 234.1342 - val_loss: 55.9399\n",
      "Epoch 2/20\n",
      "10/10 [==============================] - 0s 33ms/step - loss: 42.8916 - val_loss: 25.7170\n",
      "Epoch 3/20\n",
      "10/10 [==============================] - 0s 18ms/step - loss: 31.5404 - val_loss: 20.4417\n",
      "Epoch 4/20\n",
      "10/10 [==============================] - 0s 14ms/step - loss: 27.5608 - val_loss: 18.4345\n",
      "Epoch 5/20\n",
      "10/10 [==============================] - 0s 24ms/step - loss: 25.6091 - val_loss: 17.5952\n",
      "Epoch 6/20\n",
      "10/10 [==============================] - 0s 12ms/step - loss: 24.6168 - val_loss: 16.9128\n",
      "Epoch 7/20\n",
      "10/10 [==============================] - 0s 20ms/step - loss: 23.7756 - val_loss: 17.3454\n",
      "Epoch 8/20\n",
      "10/10 [==============================] - 0s 23ms/step - loss: 23.1253 - val_loss: 17.4786\n",
      "Epoch 9/20\n",
      "10/10 [==============================] - 0s 22ms/step - loss: 22.5599 - val_loss: 17.2517\n",
      "Epoch 10/20\n",
      "10/10 [==============================] - 0s 25ms/step - loss: 22.0858 - val_loss: 17.0196\n",
      "Epoch 11/20\n",
      "10/10 [==============================] - 0s 20ms/step - loss: 21.9760 - val_loss: 17.4475\n",
      "Epoch 12/20\n",
      "10/10 [==============================] - 0s 11ms/step - loss: 21.5511 - val_loss: 16.7021\n",
      "Epoch 13/20\n",
      "10/10 [==============================] - 0s 12ms/step - loss: 21.2603 - val_loss: 16.7848\n",
      "Epoch 14/20\n",
      "10/10 [==============================] - 0s 23ms/step - loss: 20.9465 - val_loss: 16.7251\n",
      "Epoch 15/20\n",
      "10/10 [==============================] - 0s 12ms/step - loss: 20.8083 - val_loss: 16.0875\n",
      "Epoch 16/20\n",
      "10/10 [==============================] - 0s 14ms/step - loss: 20.6873 - val_loss: 15.9588\n",
      "Epoch 17/20\n",
      "10/10 [==============================] - 0s 12ms/step - loss: 20.5438 - val_loss: 15.9866\n",
      "Epoch 18/20\n",
      "10/10 [==============================] - 0s 12ms/step - loss: 20.1014 - val_loss: 16.2058\n",
      "Epoch 19/20\n",
      "10/10 [==============================] - 0s 11ms/step - loss: 19.7934 - val_loss: 16.3826\n",
      "Epoch 20/20\n",
      "10/10 [==============================] - 0s 21ms/step - loss: 19.6772 - val_loss: 16.1950\n"
     ]
    },
    {
     "data": {
      "text/plain": [
       "<keras.src.callbacks.History at 0x1e1d635f310>"
      ]
     },
     "execution_count": 42,
     "metadata": {},
     "output_type": "execute_result"
    }
   ],
   "source": [
    "model.fit(x_train,\n",
    "          y_train,\n",
    "          validation_data= (x_test, y_test),\n",
    "          epochs= 20\n",
    "          )"
   ]
  },
  {
   "cell_type": "code",
   "execution_count": 43,
   "metadata": {},
   "outputs": [
    {
     "name": "stdout",
     "output_type": "stream",
     "text": [
      "3/3 [==============================] - 0s 3ms/step\n"
     ]
    },
    {
     "data": {
      "text/plain": [
       "array([[10.894257 ],\n",
       "       [32.01607  ],\n",
       "       [23.092094 ],\n",
       "       [24.75751  ],\n",
       "       [20.210512 ],\n",
       "       [33.090687 ],\n",
       "       [ 7.3193207],\n",
       "       [24.418055 ],\n",
       "       [34.215855 ],\n",
       "       [20.536343 ],\n",
       "       [17.031996 ],\n",
       "       [ 8.28816  ],\n",
       "       [19.432135 ],\n",
       "       [18.43807  ],\n",
       "       [16.829046 ],\n",
       "       [33.867767 ],\n",
       "       [33.24879  ],\n",
       "       [35.10623  ],\n",
       "       [33.865685 ],\n",
       "       [34.206493 ],\n",
       "       [38.76732  ],\n",
       "       [17.101473 ],\n",
       "       [21.486725 ],\n",
       "       [37.14327  ],\n",
       "       [19.831127 ],\n",
       "       [34.701607 ],\n",
       "       [30.876087 ],\n",
       "       [23.219212 ],\n",
       "       [16.214933 ],\n",
       "       [16.988922 ],\n",
       "       [27.411366 ],\n",
       "       [ 8.84136  ],\n",
       "       [20.437372 ],\n",
       "       [22.794601 ],\n",
       "       [20.527573 ],\n",
       "       [16.426771 ],\n",
       "       [19.205097 ],\n",
       "       [18.584286 ],\n",
       "       [26.719177 ],\n",
       "       [28.347004 ],\n",
       "       [15.566292 ],\n",
       "       [22.70503  ],\n",
       "       [ 5.331283 ],\n",
       "       [22.958946 ],\n",
       "       [29.482183 ],\n",
       "       [35.65945  ],\n",
       "       [28.857414 ],\n",
       "       [17.540167 ],\n",
       "       [19.407173 ],\n",
       "       [19.488356 ],\n",
       "       [24.633549 ],\n",
       "       [27.466019 ],\n",
       "       [21.22004  ],\n",
       "       [38.32049  ],\n",
       "       [17.96447  ],\n",
       "       [23.793514 ],\n",
       "       [33.434566 ],\n",
       "       [10.362261 ],\n",
       "       [ 9.559534 ],\n",
       "       [24.023632 ],\n",
       "       [24.49404  ],\n",
       "       [ 8.200953 ],\n",
       "       [33.73095  ],\n",
       "       [21.43494  ],\n",
       "       [17.549118 ],\n",
       "       [19.950792 ],\n",
       "       [30.979748 ],\n",
       "       [38.058666 ],\n",
       "       [18.936127 ],\n",
       "       [21.246735 ],\n",
       "       [16.326305 ],\n",
       "       [22.840878 ],\n",
       "       [26.40129  ],\n",
       "       [25.066965 ],\n",
       "       [29.185478 ],\n",
       "       [16.109312 ],\n",
       "       [20.798103 ],\n",
       "       [23.468441 ],\n",
       "       [20.52996  ]], dtype=float32)"
      ]
     },
     "execution_count": 43,
     "metadata": {},
     "output_type": "execute_result"
    }
   ],
   "source": [
    "preds = model.predict(x_test)\n",
    "preds"
   ]
  },
  {
   "cell_type": "markdown",
   "metadata": {},
   "source": [
    "convert 2d to 1 d"
   ]
  },
  {
   "cell_type": "code",
   "execution_count": 44,
   "metadata": {},
   "outputs": [
    {
     "name": "stdout",
     "output_type": "stream",
     "text": [
      "3/3 [==============================] - 0s 3ms/step\n"
     ]
    },
    {
     "data": {
      "text/plain": [
       "array([10.894257 , 32.01607  , 23.092094 , 24.75751  , 20.210512 ,\n",
       "       33.090687 ,  7.3193207, 24.418055 , 34.215855 , 20.536343 ,\n",
       "       17.031996 ,  8.28816  , 19.432135 , 18.43807  , 16.829046 ,\n",
       "       33.867767 , 33.24879  , 35.10623  , 33.865685 , 34.206493 ,\n",
       "       38.76732  , 17.101473 , 21.486725 , 37.14327  , 19.831127 ,\n",
       "       34.701607 , 30.876087 , 23.219212 , 16.214933 , 16.988922 ,\n",
       "       27.411366 ,  8.84136  , 20.437372 , 22.794601 , 20.527573 ,\n",
       "       16.426771 , 19.205097 , 18.584286 , 26.719177 , 28.347004 ,\n",
       "       15.566292 , 22.70503  ,  5.331283 , 22.958946 , 29.482183 ,\n",
       "       35.65945  , 28.857414 , 17.540167 , 19.407173 , 19.488356 ,\n",
       "       24.633549 , 27.466019 , 21.22004  , 38.32049  , 17.96447  ,\n",
       "       23.793514 , 33.434566 , 10.362261 ,  9.559534 , 24.023632 ,\n",
       "       24.49404  ,  8.200953 , 33.73095  , 21.43494  , 17.549118 ,\n",
       "       19.950792 , 30.979748 , 38.058666 , 18.936127 , 21.246735 ,\n",
       "       16.326305 , 22.840878 , 26.40129  , 25.066965 , 29.185478 ,\n",
       "       16.109312 , 20.798103 , 23.468441 , 20.52996  ], dtype=float32)"
      ]
     },
     "execution_count": 44,
     "metadata": {},
     "output_type": "execute_result"
    }
   ],
   "source": [
    "preds = model.predict(x_test).reshape(-1,)\n",
    "preds"
   ]
  },
  {
   "cell_type": "code",
   "execution_count": 45,
   "metadata": {},
   "outputs": [
    {
     "data": {
      "text/html": [
       "<div>\n",
       "<style scoped>\n",
       "    .dataframe tbody tr th:only-of-type {\n",
       "        vertical-align: middle;\n",
       "    }\n",
       "\n",
       "    .dataframe tbody tr th {\n",
       "        vertical-align: top;\n",
       "    }\n",
       "\n",
       "    .dataframe thead th {\n",
       "        text-align: right;\n",
       "    }\n",
       "</style>\n",
       "<table border=\"1\" class=\"dataframe\">\n",
       "  <thead>\n",
       "    <tr style=\"text-align: right;\">\n",
       "      <th></th>\n",
       "      <th>Actual</th>\n",
       "      <th>Predict</th>\n",
       "    </tr>\n",
       "  </thead>\n",
       "  <tbody>\n",
       "    <tr>\n",
       "      <th>0</th>\n",
       "      <td>23.7</td>\n",
       "      <td>10.894257</td>\n",
       "    </tr>\n",
       "    <tr>\n",
       "      <th>1</th>\n",
       "      <td>34.7</td>\n",
       "      <td>32.016071</td>\n",
       "    </tr>\n",
       "    <tr>\n",
       "      <th>2</th>\n",
       "      <td>19.8</td>\n",
       "      <td>23.092094</td>\n",
       "    </tr>\n",
       "    <tr>\n",
       "      <th>3</th>\n",
       "      <td>21.6</td>\n",
       "      <td>24.757509</td>\n",
       "    </tr>\n",
       "    <tr>\n",
       "      <th>4</th>\n",
       "      <td>19.5</td>\n",
       "      <td>20.210512</td>\n",
       "    </tr>\n",
       "    <tr>\n",
       "      <th>...</th>\n",
       "      <td>...</td>\n",
       "      <td>...</td>\n",
       "    </tr>\n",
       "    <tr>\n",
       "      <th>74</th>\n",
       "      <td>28.0</td>\n",
       "      <td>29.185478</td>\n",
       "    </tr>\n",
       "    <tr>\n",
       "      <th>75</th>\n",
       "      <td>19.5</td>\n",
       "      <td>16.109312</td>\n",
       "    </tr>\n",
       "    <tr>\n",
       "      <th>76</th>\n",
       "      <td>21.0</td>\n",
       "      <td>20.798103</td>\n",
       "    </tr>\n",
       "    <tr>\n",
       "      <th>77</th>\n",
       "      <td>23.0</td>\n",
       "      <td>23.468441</td>\n",
       "    </tr>\n",
       "    <tr>\n",
       "      <th>78</th>\n",
       "      <td>24.5</td>\n",
       "      <td>20.529961</td>\n",
       "    </tr>\n",
       "  </tbody>\n",
       "</table>\n",
       "<p>79 rows × 2 columns</p>\n",
       "</div>"
      ],
      "text/plain": [
       "    Actual    Predict\n",
       "0     23.7  10.894257\n",
       "1     34.7  32.016071\n",
       "2     19.8  23.092094\n",
       "3     21.6  24.757509\n",
       "4     19.5  20.210512\n",
       "..     ...        ...\n",
       "74    28.0  29.185478\n",
       "75    19.5  16.109312\n",
       "76    21.0  20.798103\n",
       "77    23.0  23.468441\n",
       "78    24.5  20.529961\n",
       "\n",
       "[79 rows x 2 columns]"
      ]
     },
     "execution_count": 45,
     "metadata": {},
     "output_type": "execute_result"
    }
   ],
   "source": [
    "result = pd.DataFrame()\n",
    "result['Actual'] = y_test.values # convert to numpy array\n",
    "result['Predict'] = preds\n",
    "result"
   ]
  },
  {
   "cell_type": "code",
   "execution_count": null,
   "metadata": {},
   "outputs": [],
   "source": []
  }
 ],
 "metadata": {
  "kernelspec": {
   "display_name": "Python 3",
   "language": "python",
   "name": "python3"
  },
  "language_info": {
   "codemirror_mode": {
    "name": "ipython",
    "version": 3
   },
   "file_extension": ".py",
   "mimetype": "text/x-python",
   "name": "python",
   "nbconvert_exporter": "python",
   "pygments_lexer": "ipython3",
   "version": "3.11.4"
  },
  "orig_nbformat": 4
 },
 "nbformat": 4,
 "nbformat_minor": 2
}
