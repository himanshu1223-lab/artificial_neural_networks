{
 "cells": [
  {
   "cell_type": "markdown",
   "metadata": {},
   "source": [
    "# Artificial Neural Networks [NN1] using pytorch"
   ]
  },
  {
   "cell_type": "markdown",
   "metadata": {},
   "source": [
    "1. Linear Function: \n",
    "\n",
    "Formula: ![\"linear\"](imgs/linear.png)\n",
    "\n",
    "Often used in regression problems where the network needs to predict a continuous value."
   ]
  },
  {
   "cell_type": "markdown",
   "metadata": {},
   "source": [
    "![\"activation_function_linear\"](imgs/activation_function_linear.png)"
   ]
  },
  {
   "cell_type": "markdown",
   "metadata": {},
   "source": [
    "2. Exponential Linear Unit (ELU):\n",
    "\n",
    "Formula: ![\"elu\"](imgs/elu.png)\n",
    " \n",
    "Smooth for negative inputs, aims to capture information from all regions of the input space."
   ]
  },
  {
   "cell_type": "markdown",
   "metadata": {},
   "source": [
    "![\"activation_function_elu\"](imgs/activation_function_elu.png)"
   ]
  },
  {
   "cell_type": "markdown",
   "metadata": {},
   "source": [
    "3. Sigmoid Function:\n",
    "\n",
    "Formula: ![\"Sigmoid\"](imgs/Sigmoid.png)\n",
    " \n",
    "Output range: (0, 1)\n",
    "\n",
    "​Often used in the output layer of binary classification problems.\n",
    "\n",
    "\n",
    "\n",
    "+ Why use sigmoid function? \n",
    "\n",
    "In `step function` are `0.1 >round> 1` and `0.9 >round> 1`\n",
    "\n",
    "it's problem for training neural network, so we use sigmoid function..\n"
   ]
  },
  {
   "cell_type": "markdown",
   "metadata": {},
   "source": [
    "![\"activation_function_sigmoid\"](imgs/activation_function_sigmoid.png)"
   ]
  },
  {
   "cell_type": "markdown",
   "metadata": {},
   "source": [
    "4. Hyperbolic Tangent Function (tanh):\n",
    "\n",
    "Formula: ![\"tanh\"](imgs/tanh.png)\n",
    "or f(x) = tanh(x)\n",
    "\n",
    "Output range: (-1, 1)\n",
    "\n",
    "Similar to the sigmoid but with an output range from -1 to 1.."
   ]
  },
  {
   "cell_type": "markdown",
   "metadata": {},
   "source": [
    "![\"activation_function_tanh\"](imgs/activation_function_tanh.png)"
   ]
  },
  {
   "cell_type": "markdown",
   "metadata": {},
   "source": [
    "5. Softmax Function:\n",
    "\n",
    "Formula: ![\"Softmax\"](imgs/Softmax.png)\n",
    "\n",
    "Used in the output layer for `multi-class classification` problems.\n",
    "\n",
    "Converts raw scores into probabilities, ensuring they sum to 1."
   ]
  },
  {
   "cell_type": "markdown",
   "metadata": {},
   "source": [
    "![\"activation_function_softmax\"](imgs/activation_function_softmax.png)"
   ]
  },
  {
   "cell_type": "markdown",
   "metadata": {},
   "source": [
    "Example: ![\"activation_function_softmax_2\"](imgs/activation_function_softmax_2.png)"
   ]
  },
  {
   "cell_type": "markdown",
   "metadata": {},
   "source": [
    "# use pytorch: "
   ]
  },
  {
   "cell_type": "code",
   "execution_count": 137,
   "metadata": {},
   "outputs": [],
   "source": [
    "import pandas as pd"
   ]
  },
  {
   "cell_type": "code",
   "execution_count": 138,
   "metadata": {},
   "outputs": [
    {
     "data": {
      "text/html": [
       "<div>\n",
       "<style scoped>\n",
       "    .dataframe tbody tr th:only-of-type {\n",
       "        vertical-align: middle;\n",
       "    }\n",
       "\n",
       "    .dataframe tbody tr th {\n",
       "        vertical-align: top;\n",
       "    }\n",
       "\n",
       "    .dataframe thead th {\n",
       "        text-align: right;\n",
       "    }\n",
       "</style>\n",
       "<table border=\"1\" class=\"dataframe\">\n",
       "  <thead>\n",
       "    <tr style=\"text-align: right;\">\n",
       "      <th></th>\n",
       "      <th>CRIM</th>\n",
       "      <th>ZN</th>\n",
       "      <th>INDUS</th>\n",
       "      <th>CHAS</th>\n",
       "      <th>NOX</th>\n",
       "      <th>RM</th>\n",
       "      <th>AGE</th>\n",
       "      <th>DIS</th>\n",
       "      <th>RAD</th>\n",
       "      <th>TAX</th>\n",
       "      <th>PTRATIO</th>\n",
       "      <th>B</th>\n",
       "      <th>LSTAT</th>\n",
       "      <th>MEDV</th>\n",
       "    </tr>\n",
       "  </thead>\n",
       "  <tbody>\n",
       "    <tr>\n",
       "      <th>0</th>\n",
       "      <td>0.00632</td>\n",
       "      <td>18.0</td>\n",
       "      <td>2.31</td>\n",
       "      <td>0.0</td>\n",
       "      <td>0.538</td>\n",
       "      <td>6.575</td>\n",
       "      <td>65.2</td>\n",
       "      <td>4.0900</td>\n",
       "      <td>1</td>\n",
       "      <td>296</td>\n",
       "      <td>15.3</td>\n",
       "      <td>396.90</td>\n",
       "      <td>4.98</td>\n",
       "      <td>24.0</td>\n",
       "    </tr>\n",
       "    <tr>\n",
       "      <th>1</th>\n",
       "      <td>0.02731</td>\n",
       "      <td>0.0</td>\n",
       "      <td>7.07</td>\n",
       "      <td>0.0</td>\n",
       "      <td>0.469</td>\n",
       "      <td>6.421</td>\n",
       "      <td>78.9</td>\n",
       "      <td>4.9671</td>\n",
       "      <td>2</td>\n",
       "      <td>242</td>\n",
       "      <td>17.8</td>\n",
       "      <td>396.90</td>\n",
       "      <td>9.14</td>\n",
       "      <td>21.6</td>\n",
       "    </tr>\n",
       "    <tr>\n",
       "      <th>2</th>\n",
       "      <td>0.02729</td>\n",
       "      <td>0.0</td>\n",
       "      <td>7.07</td>\n",
       "      <td>0.0</td>\n",
       "      <td>0.469</td>\n",
       "      <td>7.185</td>\n",
       "      <td>61.1</td>\n",
       "      <td>4.9671</td>\n",
       "      <td>2</td>\n",
       "      <td>242</td>\n",
       "      <td>17.8</td>\n",
       "      <td>392.83</td>\n",
       "      <td>4.03</td>\n",
       "      <td>34.7</td>\n",
       "    </tr>\n",
       "    <tr>\n",
       "      <th>3</th>\n",
       "      <td>0.03237</td>\n",
       "      <td>0.0</td>\n",
       "      <td>2.18</td>\n",
       "      <td>0.0</td>\n",
       "      <td>0.458</td>\n",
       "      <td>6.998</td>\n",
       "      <td>45.8</td>\n",
       "      <td>6.0622</td>\n",
       "      <td>3</td>\n",
       "      <td>222</td>\n",
       "      <td>18.7</td>\n",
       "      <td>394.63</td>\n",
       "      <td>2.94</td>\n",
       "      <td>33.4</td>\n",
       "    </tr>\n",
       "    <tr>\n",
       "      <th>4</th>\n",
       "      <td>0.06905</td>\n",
       "      <td>0.0</td>\n",
       "      <td>2.18</td>\n",
       "      <td>0.0</td>\n",
       "      <td>0.458</td>\n",
       "      <td>7.147</td>\n",
       "      <td>54.2</td>\n",
       "      <td>6.0622</td>\n",
       "      <td>3</td>\n",
       "      <td>222</td>\n",
       "      <td>18.7</td>\n",
       "      <td>396.90</td>\n",
       "      <td>NaN</td>\n",
       "      <td>36.2</td>\n",
       "    </tr>\n",
       "  </tbody>\n",
       "</table>\n",
       "</div>"
      ],
      "text/plain": [
       "      CRIM    ZN  INDUS  CHAS    NOX     RM   AGE     DIS  RAD  TAX  PTRATIO  \\\n",
       "0  0.00632  18.0   2.31   0.0  0.538  6.575  65.2  4.0900    1  296     15.3   \n",
       "1  0.02731   0.0   7.07   0.0  0.469  6.421  78.9  4.9671    2  242     17.8   \n",
       "2  0.02729   0.0   7.07   0.0  0.469  7.185  61.1  4.9671    2  242     17.8   \n",
       "3  0.03237   0.0   2.18   0.0  0.458  6.998  45.8  6.0622    3  222     18.7   \n",
       "4  0.06905   0.0   2.18   0.0  0.458  7.147  54.2  6.0622    3  222     18.7   \n",
       "\n",
       "        B  LSTAT  MEDV  \n",
       "0  396.90   4.98  24.0  \n",
       "1  396.90   9.14  21.6  \n",
       "2  392.83   4.03  34.7  \n",
       "3  394.63   2.94  33.4  \n",
       "4  396.90    NaN  36.2  "
      ]
     },
     "execution_count": 138,
     "metadata": {},
     "output_type": "execute_result"
    }
   ],
   "source": [
    "df = pd.read_csv(r'datasets/HousingData.csv')\n",
    "df.head()"
   ]
  },
  {
   "cell_type": "code",
   "execution_count": 139,
   "metadata": {},
   "outputs": [
    {
     "data": {
      "text/plain": [
       "CRIM       20\n",
       "ZN         20\n",
       "INDUS      20\n",
       "CHAS       20\n",
       "NOX         0\n",
       "RM          0\n",
       "AGE        20\n",
       "DIS         0\n",
       "RAD         0\n",
       "TAX         0\n",
       "PTRATIO     0\n",
       "B           0\n",
       "LSTAT      20\n",
       "MEDV        0\n",
       "dtype: int64"
      ]
     },
     "execution_count": 139,
     "metadata": {},
     "output_type": "execute_result"
    }
   ],
   "source": [
    "df.isna().sum()"
   ]
  },
  {
   "cell_type": "code",
   "execution_count": 140,
   "metadata": {},
   "outputs": [],
   "source": [
    "df.dropna(inplace=True)"
   ]
  },
  {
   "cell_type": "code",
   "execution_count": 141,
   "metadata": {},
   "outputs": [],
   "source": [
    "from sklearn.preprocessing import StandardScaler\n",
    "from sklearn.model_selection import train_test_split\n"
   ]
  },
  {
   "cell_type": "code",
   "execution_count": 142,
   "metadata": {},
   "outputs": [],
   "source": [
    "x = df.drop(['MEDV'], axis= 1 )\n",
    "y = df['MEDV']"
   ]
  },
  {
   "cell_type": "code",
   "execution_count": 143,
   "metadata": {},
   "outputs": [],
   "source": [
    "scaler = StandardScaler()\n",
    "cols = x.columns # to save name of cols\n",
    "x = scaler.fit_transform(x) \n",
    "x = pd.DataFrame(x, columns=cols)"
   ]
  },
  {
   "cell_type": "code",
   "execution_count": 144,
   "metadata": {},
   "outputs": [
    {
     "data": {
      "text/plain": [
       "(315, 13)"
      ]
     },
     "execution_count": 144,
     "metadata": {},
     "output_type": "execute_result"
    }
   ],
   "source": [
    "x_train, x_test, y_train, y_test = train_test_split(x, y, test_size=0.2)\n",
    "x_train.shape"
   ]
  },
  {
   "cell_type": "code",
   "execution_count": 145,
   "metadata": {},
   "outputs": [
    {
     "data": {
      "text/plain": [
       "(315,)"
      ]
     },
     "execution_count": 145,
     "metadata": {},
     "output_type": "execute_result"
    }
   ],
   "source": [
    "y_train.shape"
   ]
  },
  {
   "cell_type": "code",
   "execution_count": 146,
   "metadata": {},
   "outputs": [
    {
     "data": {
      "text/plain": [
       "(79, 13)"
      ]
     },
     "execution_count": 146,
     "metadata": {},
     "output_type": "execute_result"
    }
   ],
   "source": [
    "x_test.shape"
   ]
  },
  {
   "cell_type": "code",
   "execution_count": 147,
   "metadata": {},
   "outputs": [
    {
     "data": {
      "text/plain": [
       "(79,)"
      ]
     },
     "execution_count": 147,
     "metadata": {},
     "output_type": "execute_result"
    }
   ],
   "source": [
    "y_test.shape"
   ]
  },
  {
   "cell_type": "markdown",
   "metadata": {},
   "source": [
    "data with cols"
   ]
  },
  {
   "cell_type": "code",
   "execution_count": 148,
   "metadata": {},
   "outputs": [
    {
     "data": {
      "text/html": [
       "<div>\n",
       "<style scoped>\n",
       "    .dataframe tbody tr th:only-of-type {\n",
       "        vertical-align: middle;\n",
       "    }\n",
       "\n",
       "    .dataframe tbody tr th {\n",
       "        vertical-align: top;\n",
       "    }\n",
       "\n",
       "    .dataframe thead th {\n",
       "        text-align: right;\n",
       "    }\n",
       "</style>\n",
       "<table border=\"1\" class=\"dataframe\">\n",
       "  <thead>\n",
       "    <tr style=\"text-align: right;\">\n",
       "      <th></th>\n",
       "      <th>CRIM</th>\n",
       "      <th>ZN</th>\n",
       "      <th>INDUS</th>\n",
       "      <th>CHAS</th>\n",
       "      <th>NOX</th>\n",
       "      <th>RM</th>\n",
       "      <th>AGE</th>\n",
       "      <th>DIS</th>\n",
       "      <th>RAD</th>\n",
       "      <th>TAX</th>\n",
       "      <th>PTRATIO</th>\n",
       "      <th>B</th>\n",
       "      <th>LSTAT</th>\n",
       "    </tr>\n",
       "  </thead>\n",
       "  <tbody>\n",
       "    <tr>\n",
       "      <th>271</th>\n",
       "      <td>-0.394801</td>\n",
       "      <td>-0.479051</td>\n",
       "      <td>-0.958153</td>\n",
       "      <td>-0.271237</td>\n",
       "      <td>-0.984479</td>\n",
       "      <td>-0.548007</td>\n",
       "      <td>-0.597155</td>\n",
       "      <td>2.007882</td>\n",
       "      <td>-0.742657</td>\n",
       "      <td>-0.323807</td>\n",
       "      <td>0.121290</td>\n",
       "      <td>0.068622</td>\n",
       "      <td>-0.013579</td>\n",
       "    </tr>\n",
       "    <tr>\n",
       "      <th>72</th>\n",
       "      <td>-0.395266</td>\n",
       "      <td>-0.479051</td>\n",
       "      <td>-0.943659</td>\n",
       "      <td>-0.271237</td>\n",
       "      <td>-0.922515</td>\n",
       "      <td>0.502059</td>\n",
       "      <td>-0.460726</td>\n",
       "      <td>0.301746</td>\n",
       "      <td>-0.742657</td>\n",
       "      <td>-0.948440</td>\n",
       "      <td>-0.017361</td>\n",
       "      <td>0.379153</td>\n",
       "      <td>-0.854772</td>\n",
       "    </tr>\n",
       "    <tr>\n",
       "      <th>131</th>\n",
       "      <td>-0.201982</td>\n",
       "      <td>-0.479051</td>\n",
       "      <td>1.243427</td>\n",
       "      <td>3.686813</td>\n",
       "      <td>0.458396</td>\n",
       "      <td>2.183314</td>\n",
       "      <td>1.050765</td>\n",
       "      <td>-0.841912</td>\n",
       "      <td>-0.510706</td>\n",
       "      <td>-0.020413</td>\n",
       "      <td>-1.773605</td>\n",
       "      <td>0.348986</td>\n",
       "      <td>-1.486353</td>\n",
       "    </tr>\n",
       "    <tr>\n",
       "      <th>62</th>\n",
       "      <td>-0.391535</td>\n",
       "      <td>-0.479051</td>\n",
       "      <td>-0.027663</td>\n",
       "      <td>-0.271237</td>\n",
       "      <td>-1.241187</td>\n",
       "      <td>-0.308443</td>\n",
       "      <td>-2.194812</td>\n",
       "      <td>0.707108</td>\n",
       "      <td>-0.626681</td>\n",
       "      <td>-0.603404</td>\n",
       "      <td>0.306158</td>\n",
       "      <td>0.363565</td>\n",
       "      <td>-0.993145</td>\n",
       "    </tr>\n",
       "    <tr>\n",
       "      <th>169</th>\n",
       "      <td>-0.370001</td>\n",
       "      <td>-0.479051</td>\n",
       "      <td>-0.059549</td>\n",
       "      <td>-0.271237</td>\n",
       "      <td>-0.568435</td>\n",
       "      <td>-1.245183</td>\n",
       "      <td>-2.123007</td>\n",
       "      <td>-0.103902</td>\n",
       "      <td>-0.626681</td>\n",
       "      <td>-0.769973</td>\n",
       "      <td>0.028856</td>\n",
       "      <td>-0.107222</td>\n",
       "      <td>2.299020</td>\n",
       "    </tr>\n",
       "  </tbody>\n",
       "</table>\n",
       "</div>"
      ],
      "text/plain": [
       "         CRIM        ZN     INDUS      CHAS       NOX        RM       AGE  \\\n",
       "271 -0.394801 -0.479051 -0.958153 -0.271237 -0.984479 -0.548007 -0.597155   \n",
       "72  -0.395266 -0.479051 -0.943659 -0.271237 -0.922515  0.502059 -0.460726   \n",
       "131 -0.201982 -0.479051  1.243427  3.686813  0.458396  2.183314  1.050765   \n",
       "62  -0.391535 -0.479051 -0.027663 -0.271237 -1.241187 -0.308443 -2.194812   \n",
       "169 -0.370001 -0.479051 -0.059549 -0.271237 -0.568435 -1.245183 -2.123007   \n",
       "\n",
       "          DIS       RAD       TAX   PTRATIO         B     LSTAT  \n",
       "271  2.007882 -0.742657 -0.323807  0.121290  0.068622 -0.013579  \n",
       "72   0.301746 -0.742657 -0.948440 -0.017361  0.379153 -0.854772  \n",
       "131 -0.841912 -0.510706 -0.020413 -1.773605  0.348986 -1.486353  \n",
       "62   0.707108 -0.626681 -0.603404  0.306158  0.363565 -0.993145  \n",
       "169 -0.103902 -0.626681 -0.769973  0.028856 -0.107222  2.299020  "
      ]
     },
     "execution_count": 148,
     "metadata": {},
     "output_type": "execute_result"
    }
   ],
   "source": [
    "x_train.head()"
   ]
  },
  {
   "cell_type": "markdown",
   "metadata": {},
   "source": [
    "Build neural network using pytorch"
   ]
  },
  {
   "cell_type": "code",
   "execution_count": 149,
   "metadata": {},
   "outputs": [],
   "source": [
    "import torch\n",
    "from torch import nn"
   ]
  },
  {
   "cell_type": "code",
   "execution_count": 150,
   "metadata": {},
   "outputs": [],
   "source": [
    "class Data(torch.utils.data.Dataset):\n",
    "    def __init__(self, x, y):\n",
    "    # from_numpy: convert from numpy array to torch tensor\n",
    "      self.x = torch.from_numpy(x)  \n",
    "      self.y = torch.from_numpy(y)  \n",
    "      \n",
    "    def __len__(self):\n",
    "        return len(self.x)\n",
    "    \n",
    "    def __getitem__(self, index):\n",
    "        return self.x[index], self.y[index]\n",
    "    \n",
    "class NeuralNetwork(nn.Module):\n",
    "    def __init__(self):\n",
    "        super().__init__()\n",
    "        self.layers = nn.Sequential(\n",
    "            nn.Linear(13, 32), # input 12 features and 32 hidden neurons\n",
    "            nn.Sigmoid(),\n",
    "            nn.Linear(32, 1) # output is one value for task regression\n",
    "        )\n",
    "    \n",
    "    def forward(self, inputs):\n",
    "        return self.layers(inputs) # feed forward layers"
   ]
  },
  {
   "cell_type": "code",
   "execution_count": 151,
   "metadata": {},
   "outputs": [],
   "source": [
    "NN = NeuralNetwork()"
   ]
  },
  {
   "cell_type": "code",
   "execution_count": 152,
   "metadata": {},
   "outputs": [
    {
     "data": {
      "text/plain": [
       "<__main__.Data at 0x234e2ac79d0>"
      ]
     },
     "execution_count": 152,
     "metadata": {},
     "output_type": "execute_result"
    }
   ],
   "source": [
    "train_data = Data(x_train.values, # values: convert from dataframe to numpy array\n",
    "                  y_train.values)\n",
    "train_data"
   ]
  },
  {
   "cell_type": "code",
   "execution_count": 153,
   "metadata": {},
   "outputs": [
    {
     "data": {
      "text/plain": [
       "<torch.utils.data.dataloader.DataLoader at 0x234e10c4710>"
      ]
     },
     "execution_count": 153,
     "metadata": {},
     "output_type": "execute_result"
    }
   ],
   "source": [
    "train_loader = torch.utils.data.DataLoader(train_data, batch_size=8)\n",
    "train_loader"
   ]
  },
  {
   "cell_type": "code",
   "execution_count": 154,
   "metadata": {},
   "outputs": [
    {
     "data": {
      "text/plain": [
       "SGD (\n",
       "Parameter Group 0\n",
       "    dampening: 0\n",
       "    differentiable: False\n",
       "    foreach: None\n",
       "    lr: 0.0001\n",
       "    maximize: False\n",
       "    momentum: 0\n",
       "    nesterov: False\n",
       "    weight_decay: 0\n",
       ")"
      ]
     },
     "execution_count": 154,
     "metadata": {},
     "output_type": "execute_result"
    }
   ],
   "source": [
    "optimizer = torch.optim.SGD(NN.parameters(), # parameters from super class nn.Module\n",
    "                            lr=1e-4)\n",
    "optimizer"
   ]
  },
  {
   "cell_type": "code",
   "execution_count": 155,
   "metadata": {},
   "outputs": [],
   "source": [
    "cost = nn.MSELoss()\n",
    "epochs = 50"
   ]
  },
  {
   "cell_type": "code",
   "execution_count": 156,
   "metadata": {},
   "outputs": [
    {
     "name": "stdout",
     "output_type": "stream",
     "text": [
      "epoch 0\n",
      "Total training loss: 21531.438507\n",
      "epoch 1\n",
      "Total training loss: 19157.852600\n",
      "epoch 2\n",
      "Total training loss: 17075.426117\n",
      "epoch 3\n",
      "Total training loss: 15237.066971\n",
      "epoch 4\n",
      "Total training loss: 13605.964417\n",
      "epoch 5\n",
      "Total training loss: 12153.132248\n",
      "epoch 6\n",
      "Total training loss: 10855.648682\n",
      "epoch 7\n",
      "Total training loss: 9695.315811\n",
      "epoch 8\n",
      "Total training loss: 8657.585228\n",
      "epoch 9\n",
      "Total training loss: 7730.647961\n",
      "epoch 10\n",
      "Total training loss: 6904.675537\n",
      "epoch 11\n",
      "Total training loss: 6171.184113\n",
      "epoch 12\n",
      "Total training loss: 5522.545425\n",
      "epoch 13\n",
      "Total training loss: 4951.640497\n",
      "epoch 14\n",
      "Total training loss: 4451.643463\n",
      "epoch 15\n",
      "Total training loss: 4015.924015\n",
      "epoch 16\n",
      "Total training loss: 3638.030451\n",
      "epoch 17\n",
      "Total training loss: 3311.727024\n",
      "epoch 18\n",
      "Total training loss: 3031.060723\n",
      "epoch 19\n",
      "Total training loss: 2790.428905\n",
      "epoch 20\n",
      "Total training loss: 2584.636847\n",
      "epoch 21\n",
      "Total training loss: 2408.941190\n",
      "epoch 22\n",
      "Total training loss: 2259.070527\n",
      "epoch 23\n",
      "Total training loss: 2131.226505\n",
      "epoch 24\n",
      "Total training loss: 2022.072277\n",
      "epoch 25\n",
      "Total training loss: 1928.705489\n",
      "epoch 26\n",
      "Total training loss: 1848.625538\n",
      "epoch 27\n",
      "Total training loss: 1779.694404\n",
      "epoch 28\n",
      "Total training loss: 1720.097411\n",
      "epoch 29\n",
      "Total training loss: 1668.303753\n",
      "epoch 30\n",
      "Total training loss: 1623.028385\n",
      "epoch 31\n",
      "Total training loss: 1583.198206\n",
      "epoch 32\n",
      "Total training loss: 1547.919923\n",
      "epoch 33\n",
      "Total training loss: 1516.452036\n",
      "epoch 34\n",
      "Total training loss: 1488.181761\n",
      "epoch 35\n",
      "Total training loss: 1462.602293\n",
      "epoch 36\n",
      "Total training loss: 1439.295849\n",
      "epoch 37\n",
      "Total training loss: 1417.918327\n",
      "epoch 38\n",
      "Total training loss: 1398.185818\n",
      "epoch 39\n"
     ]
    },
    {
     "name": "stdout",
     "output_type": "stream",
     "text": [
      "Total training loss: 1379.865047\n",
      "epoch 40\n",
      "Total training loss: 1362.763074\n",
      "epoch 41\n",
      "Total training loss: 1346.721003\n",
      "epoch 42\n",
      "Total training loss: 1331.607181\n",
      "epoch 43\n",
      "Total training loss: 1317.312438\n",
      "epoch 44\n",
      "Total training loss: 1303.745993\n",
      "epoch 45\n",
      "Total training loss: 1290.831879\n",
      "epoch 46\n",
      "Total training loss: 1278.506522\n",
      "epoch 47\n",
      "Total training loss: 1266.716320\n",
      "epoch 48\n",
      "Total training loss: 1255.415716\n",
      "epoch 49\n",
      "Total training loss: 1244.565664\n"
     ]
    }
   ],
   "source": [
    "for epoch in range(epochs):\n",
    "    print(\"epoch %d\" % epoch)\n",
    "    total_training_loss = 0\n",
    "    \n",
    "    for i , data in enumerate(train_loader, 0):\n",
    "        inputs, targets = data\n",
    "        inputs, targets = inputs.float(), targets.float()\n",
    "        targets = targets.reshape((-1, 1))\n",
    "        \n",
    "        optimizer.zero_grad()\n",
    "        preds = NN.forward(inputs)\n",
    "        \n",
    "        loss = cost(preds, targets)\n",
    "        \n",
    "        total_training_loss += loss.item()\n",
    "        \n",
    "        loss.backward()\n",
    "        \n",
    "        optimizer.step()\n",
    "        \n",
    "    print(\"Total training loss: %f\" % total_training_loss)\n",
    "        "
   ]
  },
  {
   "cell_type": "markdown",
   "metadata": {},
   "source": [
    "values : convert from dataframe to numpy array\n",
    "\n",
    "from_numpy: convert from numpy array to torch tensor"
   ]
  },
  {
   "cell_type": "code",
   "execution_count": 157,
   "metadata": {},
   "outputs": [
    {
     "data": {
      "text/plain": [
       "tensor([[20.8451],\n",
       "        [29.8894],\n",
       "        [22.2020],\n",
       "        [24.4957],\n",
       "        [24.7719],\n",
       "        [15.1528],\n",
       "        [16.9303],\n",
       "        [30.3223],\n",
       "        [25.2096],\n",
       "        [24.5604],\n",
       "        [30.7933],\n",
       "        [24.9494],\n",
       "        [31.4681],\n",
       "        [23.9152],\n",
       "        [29.0050],\n",
       "        [23.7581],\n",
       "        [25.4260],\n",
       "        [19.6234],\n",
       "        [28.0806],\n",
       "        [16.3954],\n",
       "        [11.1646],\n",
       "        [33.5494],\n",
       "        [23.5825],\n",
       "        [21.3100],\n",
       "        [28.2607],\n",
       "        [15.8857],\n",
       "        [31.8928],\n",
       "        [20.0788],\n",
       "        [21.0335],\n",
       "        [15.3182],\n",
       "        [18.7771],\n",
       "        [26.1816],\n",
       "        [13.9204],\n",
       "        [24.4838],\n",
       "        [28.7023],\n",
       "        [25.0704],\n",
       "        [19.2462],\n",
       "        [28.9312],\n",
       "        [23.6945],\n",
       "        [22.5299],\n",
       "        [30.8124],\n",
       "        [30.0658],\n",
       "        [12.1735],\n",
       "        [25.6149],\n",
       "        [27.9375],\n",
       "        [22.7206],\n",
       "        [30.7658],\n",
       "        [16.7529],\n",
       "        [29.8851],\n",
       "        [28.3984],\n",
       "        [24.4947],\n",
       "        [16.9690],\n",
       "        [29.0752],\n",
       "        [12.9969],\n",
       "        [23.5729],\n",
       "        [17.5965],\n",
       "        [21.5471],\n",
       "        [23.8663],\n",
       "        [19.0404],\n",
       "        [28.0845],\n",
       "        [31.2948],\n",
       "        [12.5619],\n",
       "        [16.8911],\n",
       "        [13.9564],\n",
       "        [19.6512],\n",
       "        [29.6445],\n",
       "        [23.5582],\n",
       "        [29.3975],\n",
       "        [27.9386],\n",
       "        [22.1742],\n",
       "        [25.7501],\n",
       "        [13.1038],\n",
       "        [30.2516],\n",
       "        [26.4631],\n",
       "        [21.0711],\n",
       "        [30.8521],\n",
       "        [29.1271],\n",
       "        [12.0644],\n",
       "        [ 7.9928]], grad_fn=<AddmmBackward0>)"
      ]
     },
     "execution_count": 157,
     "metadata": {},
     "output_type": "execute_result"
    }
   ],
   "source": [
    "preds = NN.forward(torch.from_numpy(x_test.values).float())\n",
    "preds"
   ]
  },
  {
   "cell_type": "markdown",
   "metadata": {},
   "source": [
    "convert from torch tensor to pandas dataframe"
   ]
  },
  {
   "cell_type": "markdown",
   "metadata": {},
   "source": [
    "detach() : remove grad_fn=<AddmmBackward0>\n",
    "\n",
    "numpy() : convert to numpy"
   ]
  },
  {
   "cell_type": "code",
   "execution_count": 158,
   "metadata": {},
   "outputs": [
    {
     "data": {
      "text/plain": [
       "array([[20.845139 ],\n",
       "       [29.889359 ],\n",
       "       [22.202011 ],\n",
       "       [24.495731 ],\n",
       "       [24.771927 ],\n",
       "       [15.152773 ],\n",
       "       [16.930275 ],\n",
       "       [30.322258 ],\n",
       "       [25.209595 ],\n",
       "       [24.560406 ],\n",
       "       [30.7933   ],\n",
       "       [24.949354 ],\n",
       "       [31.468067 ],\n",
       "       [23.91522  ],\n",
       "       [29.00496  ],\n",
       "       [23.75807  ],\n",
       "       [25.425987 ],\n",
       "       [19.62342  ],\n",
       "       [28.080563 ],\n",
       "       [16.395445 ],\n",
       "       [11.1646385],\n",
       "       [33.54945  ],\n",
       "       [23.582478 ],\n",
       "       [21.310047 ],\n",
       "       [28.26068  ],\n",
       "       [15.885742 ],\n",
       "       [31.892761 ],\n",
       "       [20.07877  ],\n",
       "       [21.033514 ],\n",
       "       [15.318224 ],\n",
       "       [18.777115 ],\n",
       "       [26.181576 ],\n",
       "       [13.920368 ],\n",
       "       [24.483809 ],\n",
       "       [28.702288 ],\n",
       "       [25.070366 ],\n",
       "       [19.24622  ],\n",
       "       [28.931236 ],\n",
       "       [23.69455  ],\n",
       "       [22.529905 ],\n",
       "       [30.81242  ],\n",
       "       [30.065819 ],\n",
       "       [12.173496 ],\n",
       "       [25.614868 ],\n",
       "       [27.937496 ],\n",
       "       [22.720636 ],\n",
       "       [30.765778 ],\n",
       "       [16.752867 ],\n",
       "       [29.885149 ],\n",
       "       [28.398396 ],\n",
       "       [24.494652 ],\n",
       "       [16.968952 ],\n",
       "       [29.075191 ],\n",
       "       [12.996889 ],\n",
       "       [23.572891 ],\n",
       "       [17.59649  ],\n",
       "       [21.547062 ],\n",
       "       [23.866291 ],\n",
       "       [19.040392 ],\n",
       "       [28.084534 ],\n",
       "       [31.294775 ],\n",
       "       [12.561863 ],\n",
       "       [16.89112  ],\n",
       "       [13.956398 ],\n",
       "       [19.651222 ],\n",
       "       [29.64446  ],\n",
       "       [23.558231 ],\n",
       "       [29.3975   ],\n",
       "       [27.938633 ],\n",
       "       [22.17424  ],\n",
       "       [25.750069 ],\n",
       "       [13.103758 ],\n",
       "       [30.25161  ],\n",
       "       [26.463089 ],\n",
       "       [21.071075 ],\n",
       "       [30.85208  ],\n",
       "       [29.127094 ],\n",
       "       [12.0644455],\n",
       "       [ 7.99276  ]], dtype=float32)"
      ]
     },
     "execution_count": 158,
     "metadata": {},
     "output_type": "execute_result"
    }
   ],
   "source": [
    "preds.detach().numpy()"
   ]
  },
  {
   "cell_type": "markdown",
   "metadata": {},
   "source": [
    "reshape(-1, ) : convert from 2d to 1d"
   ]
  },
  {
   "cell_type": "code",
   "execution_count": 159,
   "metadata": {},
   "outputs": [],
   "source": [
    "preds =  preds.detach().numpy().reshape(-1,)"
   ]
  },
  {
   "cell_type": "code",
   "execution_count": 160,
   "metadata": {},
   "outputs": [
    {
     "data": {
      "text/html": [
       "<div>\n",
       "<style scoped>\n",
       "    .dataframe tbody tr th:only-of-type {\n",
       "        vertical-align: middle;\n",
       "    }\n",
       "\n",
       "    .dataframe tbody tr th {\n",
       "        vertical-align: top;\n",
       "    }\n",
       "\n",
       "    .dataframe thead th {\n",
       "        text-align: right;\n",
       "    }\n",
       "</style>\n",
       "<table border=\"1\" class=\"dataframe\">\n",
       "  <thead>\n",
       "    <tr style=\"text-align: right;\">\n",
       "      <th></th>\n",
       "      <th>Actual</th>\n",
       "      <th>Preds</th>\n",
       "    </tr>\n",
       "  </thead>\n",
       "  <tbody>\n",
       "    <tr>\n",
       "      <th>0</th>\n",
       "      <td>18.0</td>\n",
       "      <td>20.845139</td>\n",
       "    </tr>\n",
       "    <tr>\n",
       "      <th>1</th>\n",
       "      <td>30.1</td>\n",
       "      <td>29.889359</td>\n",
       "    </tr>\n",
       "    <tr>\n",
       "      <th>2</th>\n",
       "      <td>18.2</td>\n",
       "      <td>22.202011</td>\n",
       "    </tr>\n",
       "    <tr>\n",
       "      <th>3</th>\n",
       "      <td>21.5</td>\n",
       "      <td>24.495731</td>\n",
       "    </tr>\n",
       "    <tr>\n",
       "      <th>4</th>\n",
       "      <td>22.6</td>\n",
       "      <td>24.771927</td>\n",
       "    </tr>\n",
       "    <tr>\n",
       "      <th>...</th>\n",
       "      <td>...</td>\n",
       "      <td>...</td>\n",
       "    </tr>\n",
       "    <tr>\n",
       "      <th>74</th>\n",
       "      <td>14.5</td>\n",
       "      <td>21.071075</td>\n",
       "    </tr>\n",
       "    <tr>\n",
       "      <th>75</th>\n",
       "      <td>34.9</td>\n",
       "      <td>30.852079</td>\n",
       "    </tr>\n",
       "    <tr>\n",
       "      <th>76</th>\n",
       "      <td>24.5</td>\n",
       "      <td>29.127094</td>\n",
       "    </tr>\n",
       "    <tr>\n",
       "      <th>77</th>\n",
       "      <td>11.7</td>\n",
       "      <td>12.064445</td>\n",
       "    </tr>\n",
       "    <tr>\n",
       "      <th>78</th>\n",
       "      <td>13.8</td>\n",
       "      <td>7.992760</td>\n",
       "    </tr>\n",
       "  </tbody>\n",
       "</table>\n",
       "<p>79 rows × 2 columns</p>\n",
       "</div>"
      ],
      "text/plain": [
       "    Actual      Preds\n",
       "0     18.0  20.845139\n",
       "1     30.1  29.889359\n",
       "2     18.2  22.202011\n",
       "3     21.5  24.495731\n",
       "4     22.6  24.771927\n",
       "..     ...        ...\n",
       "74    14.5  21.071075\n",
       "75    34.9  30.852079\n",
       "76    24.5  29.127094\n",
       "77    11.7  12.064445\n",
       "78    13.8   7.992760\n",
       "\n",
       "[79 rows x 2 columns]"
      ]
     },
     "execution_count": 160,
     "metadata": {},
     "output_type": "execute_result"
    }
   ],
   "source": [
    "result = pd.DataFrame()\n",
    "result['Actual'] = y_test.values\n",
    "result['Preds'] = preds\n",
    "\n",
    "result"
   ]
  }
 ],
 "metadata": {
  "kernelspec": {
   "display_name": "Python 3",
   "language": "python",
   "name": "python3"
  },
  "language_info": {
   "codemirror_mode": {
    "name": "ipython",
    "version": 3
   },
   "file_extension": ".py",
   "mimetype": "text/x-python",
   "name": "python",
   "nbconvert_exporter": "python",
   "pygments_lexer": "ipython3",
   "version": "3.11.4"
  },
  "orig_nbformat": 4
 },
 "nbformat": 4,
 "nbformat_minor": 2
}
