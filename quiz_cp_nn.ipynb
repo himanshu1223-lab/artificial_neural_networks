{
  "nbformat": 4,
  "nbformat_minor": 0,
  "metadata": {
    "colab": {
      "provenance": []
    },
    "kernelspec": {
      "name": "python3",
      "display_name": "Python 3"
    },
    "language_info": {
      "name": "python"
    }
  },
  "cells": [
    {
      "cell_type": "code",
      "source": [
        "import numpy as np"
      ],
      "metadata": {
        "id": "zCAMkd3BhYaK"
      },
      "execution_count": null,
      "outputs": []
    },
    {
      "cell_type": "code",
      "execution_count": null,
      "metadata": {
        "id": "UL08DHOzc__1"
      },
      "outputs": [],
      "source": [
        "# given inputs\n",
        "inputs= [0.1, 0.2, 0.3] # (3,1)\n",
        "\n",
        "# given weights\n",
        "# rows are number of nodes , cols are number of arrows\n",
        "weights_1= [[0.1,0.5,0.9], [0.2,0.6,0.2], [0.3,0.7,0.3], [0.4,0.8,0.4]] # (4,3)\n",
        "weights_2= [[0.2,0.6,0.2,0.1], [0.3,0.1,0.3,0.5], [0.5,0.7,0.2,0.4]] # (3,4)\n",
        "weights_3= [[0.1,0.3,0.5], [0.2,0.4,0.6]] # (2,3)\n",
        "\n",
        "# given Threshold\n",
        "bais_1, bais_2, bais_3= 0.15, 0.25, 0.25"
      ]
    },
    {
      "cell_type": "code",
      "source": [
        "# get hidden layer 1 : h1, h2, h3, h4\n",
        "hidden_1= np.dot(weights_1, inputs)+ bais_1\n",
        "print(f\"Hidden layer 1 befor activiation: {hidden_1}\")\n",
        "\n",
        "# make activation function using ReLU= max(0,hidden_[i])\n",
        "for i in range(len(hidden_1)): # 0 1 2 3\n",
        "  hidden_1[i]= max(0, hidden_1[i])\n",
        "  # print(hidden_1[i])\n",
        "\n",
        "print(f\"Hidden layer 1 after activiation: {hidden_1}\")"
      ],
      "metadata": {
        "colab": {
          "base_uri": "https://localhost:8080/"
        },
        "id": "UOWn1-0_fhD6",
        "outputId": "261282f4-bc98-4dba-f799-e2f15ecf5128"
      },
      "execution_count": null,
      "outputs": [
        {
          "output_type": "stream",
          "name": "stdout",
          "text": [
            "Hidden layer 1 befor activiation: [0.53 0.35 0.41 0.47]\n",
            "Hidden layer 1 after activiation: [0.53 0.35 0.41 0.47]\n"
          ]
        }
      ]
    },
    {
      "cell_type": "code",
      "source": [
        "# get hidden layer 2 : h5, h6, h7\n",
        "hidden_2= np.dot(weights_2, hidden_1)+ bais_2\n",
        "print(f\"Hidden layer 2 befor activiation: {hidden_2}\")\n",
        "\n",
        "# make activation function using Binary= 0 if hidden_2[i] < 0, 1 if hidden_2[i] >= 0\n",
        "for i in range(len(hidden_2)):\n",
        "  print(f\"Befor: {hidden_2[i]}\")\n",
        "  hidden_2[i]= 0 if hidden_2[i] < 0 else  1\n",
        "  print(f\"After: {hidden_2[i]}\")\n",
        "\n",
        "print(f\"Hidden layer 2 after activiation: {hidden_2}\")"
      ],
      "metadata": {
        "colab": {
          "base_uri": "https://localhost:8080/"
        },
        "id": "xXrf-0vzg3YV",
        "outputId": "806eecd4-d837-402f-ed5b-600acfb0c90a"
      },
      "execution_count": null,
      "outputs": [
        {
          "output_type": "stream",
          "name": "stdout",
          "text": [
            "Hidden layer 2 befor activiation: [0.695 0.802 1.03 ]\n",
            "Befor: 0.6950000000000001\n",
            "After: 1.0\n",
            "Befor: 0.802\n",
            "After: 1.0\n",
            "Befor: 1.03\n",
            "After: 1.0\n",
            "Hidden layer 2 after activiation: [1. 1. 1.]\n"
          ]
        }
      ]
    },
    {
      "cell_type": "code",
      "source": [
        "# get output layer : o1 , o2\n",
        "output= np.dot(weights_3, hidden_2)+ bais_3\n",
        "print(f\"Output layer befor activiation: {output}\")\n",
        "\n",
        "# make activation function using Binary= 0 if output[i] < 0, 1 if output[i] >= 0\n",
        "for i in range(len(output)):\n",
        "  print(f\"Befor: {output[i]}\")\n",
        "  output[i]= 0 if output[i] < 0 else  1\n",
        "  print(f\"After: {output[i]}\")\n",
        "\n",
        "print(f\"Output layer after activiation: {output}\")"
      ],
      "metadata": {
        "colab": {
          "base_uri": "https://localhost:8080/"
        },
        "id": "QN56i2xDg3QS",
        "outputId": "2180f105-1f5c-42d2-dabd-0e3e9eb74732"
      },
      "execution_count": null,
      "outputs": [
        {
          "output_type": "stream",
          "name": "stdout",
          "text": [
            "Output layer befor activiation: [1.15 1.45]\n",
            "Befor: 1.15\n",
            "After: 1.0\n",
            "Befor: 1.4500000000000002\n",
            "After: 1.0\n",
            "Hidden layer 2 after activiation: [1. 1.]\n"
          ]
        }
      ]
    }
  ]
}