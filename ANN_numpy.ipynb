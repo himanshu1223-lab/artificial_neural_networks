{
 "cells": [
  {
   "cell_type": "markdown",
   "metadata": {},
   "source": [
    "# Artificial Neural Networks [NN1] using numpy"
   ]
  },
  {
   "cell_type": "markdown",
   "metadata": {},
   "source": [
    "1. Linear Function: \n",
    "\n",
    "Formula: ![\"linear\"](imgs/linear.png)\n",
    "\n",
    "Often used in regression problems where the network needs to predict a continuous value."
   ]
  },
  {
   "cell_type": "markdown",
   "metadata": {},
   "source": [
    "![\"activation_function_linear\"](imgs/activation_function_linear.png)"
   ]
  },
  {
   "cell_type": "markdown",
   "metadata": {},
   "source": [
    "2. Exponential Linear Unit (ELU):\n",
    "\n",
    "Formula: ![\"elu\"](imgs/elu.png)\n",
    " \n",
    "Smooth for negative inputs, aims to capture information from all regions of the input space."
   ]
  },
  {
   "cell_type": "markdown",
   "metadata": {},
   "source": [
    "![\"activation_function_elu\"](imgs/activation_function_elu.png)"
   ]
  },
  {
   "cell_type": "markdown",
   "metadata": {},
   "source": [
    "3. Sigmoid Function:\n",
    "\n",
    "Formula: ![\"Sigmoid\"](imgs/Sigmoid.png)\n",
    " \n",
    "Output range: (0, 1)\n",
    "\n",
    "​Often used in the output layer of binary classification problems.\n",
    "\n",
    "\n",
    "\n",
    "+ Why use sigmoid function? \n",
    "\n",
    "In `step function` are `0.1 >round> 1` and `0.9 >round> 1`\n",
    "\n",
    "it's problem for training neural network, so we use sigmoid function..\n"
   ]
  },
  {
   "cell_type": "markdown",
   "metadata": {},
   "source": [
    "![\"activation_function_sigmoid\"](imgs/activation_function_sigmoid.png)"
   ]
  },
  {
   "cell_type": "markdown",
   "metadata": {},
   "source": [
    "4. Hyperbolic Tangent Function (tanh):\n",
    "\n",
    "Formula: ![\"tanh\"](imgs/tanh.png)\n",
    "or f(x) = tanh(x)\n",
    "\n",
    "Output range: (-1, 1)\n",
    "\n",
    "Similar to the sigmoid but with an output range from -1 to 1.."
   ]
  },
  {
   "cell_type": "markdown",
   "metadata": {},
   "source": [
    "![\"activation_function_tanh\"](imgs/activation_function_tanh.png)"
   ]
  },
  {
   "cell_type": "markdown",
   "metadata": {},
   "source": [
    "5. Softmax Function:\n",
    "\n",
    "Formula: ![\"Softmax\"](imgs/Softmax.png)\n",
    "\n",
    "Used in the output layer for `multi-class classification` problems.\n",
    "\n",
    "Converts raw scores into probabilities, ensuring they sum to 1."
   ]
  },
  {
   "cell_type": "markdown",
   "metadata": {},
   "source": [
    "![\"activation_function_softmax\"](imgs/activation_function_softmax.png)"
   ]
  },
  {
   "cell_type": "markdown",
   "metadata": {},
   "source": [
    "Example: ![\"activation_function_softmax_2\"](imgs/activation_function_softmax_2.png)"
   ]
  },
  {
   "cell_type": "markdown",
   "metadata": {},
   "source": [
    "# Example: \n",
    "\n",
    "Build neural network from skratch "
   ]
  },
  {
   "cell_type": "code",
   "execution_count": 165,
   "metadata": {},
   "outputs": [],
   "source": [
    "import pandas as pd"
   ]
  },
  {
   "cell_type": "code",
   "execution_count": 166,
   "metadata": {},
   "outputs": [
    {
     "data": {
      "text/html": [
       "<div>\n",
       "<style scoped>\n",
       "    .dataframe tbody tr th:only-of-type {\n",
       "        vertical-align: middle;\n",
       "    }\n",
       "\n",
       "    .dataframe tbody tr th {\n",
       "        vertical-align: top;\n",
       "    }\n",
       "\n",
       "    .dataframe thead th {\n",
       "        text-align: right;\n",
       "    }\n",
       "</style>\n",
       "<table border=\"1\" class=\"dataframe\">\n",
       "  <thead>\n",
       "    <tr style=\"text-align: right;\">\n",
       "      <th></th>\n",
       "      <th>CRIM</th>\n",
       "      <th>ZN</th>\n",
       "      <th>INDUS</th>\n",
       "      <th>CHAS</th>\n",
       "      <th>NOX</th>\n",
       "      <th>RM</th>\n",
       "      <th>AGE</th>\n",
       "      <th>DIS</th>\n",
       "      <th>RAD</th>\n",
       "      <th>TAX</th>\n",
       "      <th>PTRATIO</th>\n",
       "      <th>B</th>\n",
       "      <th>LSTAT</th>\n",
       "      <th>MEDV</th>\n",
       "    </tr>\n",
       "  </thead>\n",
       "  <tbody>\n",
       "    <tr>\n",
       "      <th>0</th>\n",
       "      <td>0.00632</td>\n",
       "      <td>18.0</td>\n",
       "      <td>2.31</td>\n",
       "      <td>0.0</td>\n",
       "      <td>0.538</td>\n",
       "      <td>6.575</td>\n",
       "      <td>65.2</td>\n",
       "      <td>4.0900</td>\n",
       "      <td>1</td>\n",
       "      <td>296</td>\n",
       "      <td>15.3</td>\n",
       "      <td>396.90</td>\n",
       "      <td>4.98</td>\n",
       "      <td>24.0</td>\n",
       "    </tr>\n",
       "    <tr>\n",
       "      <th>1</th>\n",
       "      <td>0.02731</td>\n",
       "      <td>0.0</td>\n",
       "      <td>7.07</td>\n",
       "      <td>0.0</td>\n",
       "      <td>0.469</td>\n",
       "      <td>6.421</td>\n",
       "      <td>78.9</td>\n",
       "      <td>4.9671</td>\n",
       "      <td>2</td>\n",
       "      <td>242</td>\n",
       "      <td>17.8</td>\n",
       "      <td>396.90</td>\n",
       "      <td>9.14</td>\n",
       "      <td>21.6</td>\n",
       "    </tr>\n",
       "    <tr>\n",
       "      <th>2</th>\n",
       "      <td>0.02729</td>\n",
       "      <td>0.0</td>\n",
       "      <td>7.07</td>\n",
       "      <td>0.0</td>\n",
       "      <td>0.469</td>\n",
       "      <td>7.185</td>\n",
       "      <td>61.1</td>\n",
       "      <td>4.9671</td>\n",
       "      <td>2</td>\n",
       "      <td>242</td>\n",
       "      <td>17.8</td>\n",
       "      <td>392.83</td>\n",
       "      <td>4.03</td>\n",
       "      <td>34.7</td>\n",
       "    </tr>\n",
       "    <tr>\n",
       "      <th>3</th>\n",
       "      <td>0.03237</td>\n",
       "      <td>0.0</td>\n",
       "      <td>2.18</td>\n",
       "      <td>0.0</td>\n",
       "      <td>0.458</td>\n",
       "      <td>6.998</td>\n",
       "      <td>45.8</td>\n",
       "      <td>6.0622</td>\n",
       "      <td>3</td>\n",
       "      <td>222</td>\n",
       "      <td>18.7</td>\n",
       "      <td>394.63</td>\n",
       "      <td>2.94</td>\n",
       "      <td>33.4</td>\n",
       "    </tr>\n",
       "    <tr>\n",
       "      <th>4</th>\n",
       "      <td>0.06905</td>\n",
       "      <td>0.0</td>\n",
       "      <td>2.18</td>\n",
       "      <td>0.0</td>\n",
       "      <td>0.458</td>\n",
       "      <td>7.147</td>\n",
       "      <td>54.2</td>\n",
       "      <td>6.0622</td>\n",
       "      <td>3</td>\n",
       "      <td>222</td>\n",
       "      <td>18.7</td>\n",
       "      <td>396.90</td>\n",
       "      <td>NaN</td>\n",
       "      <td>36.2</td>\n",
       "    </tr>\n",
       "  </tbody>\n",
       "</table>\n",
       "</div>"
      ],
      "text/plain": [
       "      CRIM    ZN  INDUS  CHAS    NOX     RM   AGE     DIS  RAD  TAX  PTRATIO  \\\n",
       "0  0.00632  18.0   2.31   0.0  0.538  6.575  65.2  4.0900    1  296     15.3   \n",
       "1  0.02731   0.0   7.07   0.0  0.469  6.421  78.9  4.9671    2  242     17.8   \n",
       "2  0.02729   0.0   7.07   0.0  0.469  7.185  61.1  4.9671    2  242     17.8   \n",
       "3  0.03237   0.0   2.18   0.0  0.458  6.998  45.8  6.0622    3  222     18.7   \n",
       "4  0.06905   0.0   2.18   0.0  0.458  7.147  54.2  6.0622    3  222     18.7   \n",
       "\n",
       "        B  LSTAT  MEDV  \n",
       "0  396.90   4.98  24.0  \n",
       "1  396.90   9.14  21.6  \n",
       "2  392.83   4.03  34.7  \n",
       "3  394.63   2.94  33.4  \n",
       "4  396.90    NaN  36.2  "
      ]
     },
     "execution_count": 166,
     "metadata": {},
     "output_type": "execute_result"
    }
   ],
   "source": [
    "df = pd.read_csv(r'datasets/HousingData.csv')\n",
    "df.head()"
   ]
  },
  {
   "cell_type": "code",
   "execution_count": 167,
   "metadata": {},
   "outputs": [
    {
     "data": {
      "text/plain": [
       "CRIM       20\n",
       "ZN         20\n",
       "INDUS      20\n",
       "CHAS       20\n",
       "NOX         0\n",
       "RM          0\n",
       "AGE        20\n",
       "DIS         0\n",
       "RAD         0\n",
       "TAX         0\n",
       "PTRATIO     0\n",
       "B           0\n",
       "LSTAT      20\n",
       "MEDV        0\n",
       "dtype: int64"
      ]
     },
     "execution_count": 167,
     "metadata": {},
     "output_type": "execute_result"
    }
   ],
   "source": [
    "df.isna().sum()"
   ]
  },
  {
   "cell_type": "code",
   "execution_count": 168,
   "metadata": {},
   "outputs": [],
   "source": [
    "df.dropna(inplace=True)"
   ]
  },
  {
   "cell_type": "code",
   "execution_count": 169,
   "metadata": {},
   "outputs": [],
   "source": [
    "from sklearn.preprocessing import StandardScaler\n",
    "from sklearn.model_selection import train_test_split\n"
   ]
  },
  {
   "cell_type": "code",
   "execution_count": 170,
   "metadata": {},
   "outputs": [],
   "source": [
    "x = df.drop(['MEDV'], axis= 1 )\n",
    "y = df['MEDV']"
   ]
  },
  {
   "cell_type": "code",
   "execution_count": 171,
   "metadata": {},
   "outputs": [],
   "source": [
    "scaler = StandardScaler()\n",
    "cols = x.columns # to save name of cols\n",
    "x = scaler.fit_transform(x) \n",
    "x = pd.DataFrame(x, columns=cols)"
   ]
  },
  {
   "cell_type": "code",
   "execution_count": 172,
   "metadata": {},
   "outputs": [
    {
     "data": {
      "text/plain": [
       "(315, 13)"
      ]
     },
     "execution_count": 172,
     "metadata": {},
     "output_type": "execute_result"
    }
   ],
   "source": [
    "x_train, x_test, y_train, y_test = train_test_split(x, y, test_size=0.2)\n",
    "x_train.shape"
   ]
  },
  {
   "cell_type": "code",
   "execution_count": 173,
   "metadata": {},
   "outputs": [
    {
     "data": {
      "text/plain": [
       "(315,)"
      ]
     },
     "execution_count": 173,
     "metadata": {},
     "output_type": "execute_result"
    }
   ],
   "source": [
    "y_train.shape"
   ]
  },
  {
   "cell_type": "code",
   "execution_count": 174,
   "metadata": {},
   "outputs": [
    {
     "data": {
      "text/plain": [
       "(79, 13)"
      ]
     },
     "execution_count": 174,
     "metadata": {},
     "output_type": "execute_result"
    }
   ],
   "source": [
    "x_test.shape"
   ]
  },
  {
   "cell_type": "code",
   "execution_count": 175,
   "metadata": {},
   "outputs": [
    {
     "data": {
      "text/plain": [
       "(79,)"
      ]
     },
     "execution_count": 175,
     "metadata": {},
     "output_type": "execute_result"
    }
   ],
   "source": [
    "y_test.shape"
   ]
  },
  {
   "cell_type": "markdown",
   "metadata": {},
   "source": [
    "data with cols"
   ]
  },
  {
   "cell_type": "code",
   "execution_count": 176,
   "metadata": {},
   "outputs": [
    {
     "data": {
      "text/html": [
       "<div>\n",
       "<style scoped>\n",
       "    .dataframe tbody tr th:only-of-type {\n",
       "        vertical-align: middle;\n",
       "    }\n",
       "\n",
       "    .dataframe tbody tr th {\n",
       "        vertical-align: top;\n",
       "    }\n",
       "\n",
       "    .dataframe thead th {\n",
       "        text-align: right;\n",
       "    }\n",
       "</style>\n",
       "<table border=\"1\" class=\"dataframe\">\n",
       "  <thead>\n",
       "    <tr style=\"text-align: right;\">\n",
       "      <th></th>\n",
       "      <th>CRIM</th>\n",
       "      <th>ZN</th>\n",
       "      <th>INDUS</th>\n",
       "      <th>CHAS</th>\n",
       "      <th>NOX</th>\n",
       "      <th>RM</th>\n",
       "      <th>AGE</th>\n",
       "      <th>DIS</th>\n",
       "      <th>RAD</th>\n",
       "      <th>TAX</th>\n",
       "      <th>PTRATIO</th>\n",
       "      <th>B</th>\n",
       "      <th>LSTAT</th>\n",
       "    </tr>\n",
       "  </thead>\n",
       "  <tbody>\n",
       "    <tr>\n",
       "      <th>352</th>\n",
       "      <td>0.115577</td>\n",
       "      <td>-0.479051</td>\n",
       "      <td>1.028921</td>\n",
       "      <td>-0.271237</td>\n",
       "      <td>1.414412</td>\n",
       "      <td>0.351435</td>\n",
       "      <td>0.630707</td>\n",
       "      <td>-0.653401</td>\n",
       "      <td>1.692835</td>\n",
       "      <td>1.544144</td>\n",
       "      <td>0.768327</td>\n",
       "      <td>-3.449268</td>\n",
       "      <td>0.734454</td>\n",
       "    </tr>\n",
       "    <tr>\n",
       "      <th>287</th>\n",
       "      <td>0.000741</td>\n",
       "      <td>-0.479051</td>\n",
       "      <td>1.028921</td>\n",
       "      <td>-0.271237</td>\n",
       "      <td>1.458672</td>\n",
       "      <td>-1.889281</td>\n",
       "      <td>0.806629</td>\n",
       "      <td>-0.979513</td>\n",
       "      <td>1.692835</td>\n",
       "      <td>1.544144</td>\n",
       "      <td>0.768327</td>\n",
       "      <td>-0.476180</td>\n",
       "      <td>0.168634</td>\n",
       "    </tr>\n",
       "    <tr>\n",
       "      <th>18</th>\n",
       "      <td>-0.267407</td>\n",
       "      <td>-0.479051</td>\n",
       "      <td>-0.414642</td>\n",
       "      <td>-0.271237</td>\n",
       "      <td>-0.134687</td>\n",
       "      <td>-0.197985</td>\n",
       "      <td>0.817399</td>\n",
       "      <td>0.081889</td>\n",
       "      <td>-0.626681</td>\n",
       "      <td>-0.591507</td>\n",
       "      <td>1.138063</td>\n",
       "      <td>0.430740</td>\n",
       "      <td>0.815285</td>\n",
       "    </tr>\n",
       "    <tr>\n",
       "      <th>263</th>\n",
       "      <td>-0.398197</td>\n",
       "      <td>-0.479051</td>\n",
       "      <td>-0.842204</td>\n",
       "      <td>-0.271237</td>\n",
       "      <td>-0.338283</td>\n",
       "      <td>-0.552311</td>\n",
       "      <td>-0.335068</td>\n",
       "      <td>0.863460</td>\n",
       "      <td>-0.510706</td>\n",
       "      <td>-1.085264</td>\n",
       "      <td>0.768327</td>\n",
       "      <td>0.407302</td>\n",
       "      <td>-0.302653</td>\n",
       "    </tr>\n",
       "    <tr>\n",
       "      <th>215</th>\n",
       "      <td>-0.391056</td>\n",
       "      <td>1.192933</td>\n",
       "      <td>-0.665382</td>\n",
       "      <td>-0.271237</td>\n",
       "      <td>-0.940219</td>\n",
       "      <td>0.823391</td>\n",
       "      <td>-0.938228</td>\n",
       "      <td>0.220445</td>\n",
       "      <td>-0.626681</td>\n",
       "      <td>-0.906798</td>\n",
       "      <td>-0.433313</td>\n",
       "      <td>0.430740</td>\n",
       "      <td>-1.341130</td>\n",
       "    </tr>\n",
       "  </tbody>\n",
       "</table>\n",
       "</div>"
      ],
      "text/plain": [
       "         CRIM        ZN     INDUS      CHAS       NOX        RM       AGE  \\\n",
       "352  0.115577 -0.479051  1.028921 -0.271237  1.414412  0.351435  0.630707   \n",
       "287  0.000741 -0.479051  1.028921 -0.271237  1.458672 -1.889281  0.806629   \n",
       "18  -0.267407 -0.479051 -0.414642 -0.271237 -0.134687 -0.197985  0.817399   \n",
       "263 -0.398197 -0.479051 -0.842204 -0.271237 -0.338283 -0.552311 -0.335068   \n",
       "215 -0.391056  1.192933 -0.665382 -0.271237 -0.940219  0.823391 -0.938228   \n",
       "\n",
       "          DIS       RAD       TAX   PTRATIO         B     LSTAT  \n",
       "352 -0.653401  1.692835  1.544144  0.768327 -3.449268  0.734454  \n",
       "287 -0.979513  1.692835  1.544144  0.768327 -0.476180  0.168634  \n",
       "18   0.081889 -0.626681 -0.591507  1.138063  0.430740  0.815285  \n",
       "263  0.863460 -0.510706 -1.085264  0.768327  0.407302 -0.302653  \n",
       "215  0.220445 -0.626681 -0.906798 -0.433313  0.430740 -1.341130  "
      ]
     },
     "execution_count": 176,
     "metadata": {},
     "output_type": "execute_result"
    }
   ],
   "source": [
    "x_train.head()"
   ]
  },
  {
   "cell_type": "markdown",
   "metadata": {},
   "source": [
    "Build neural network using numpy"
   ]
  },
  {
   "cell_type": "code",
   "execution_count": 177,
   "metadata": {},
   "outputs": [],
   "source": [
    "import numpy as np"
   ]
  },
  {
   "cell_type": "code",
   "execution_count": 178,
   "metadata": {},
   "outputs": [],
   "source": [
    "class Neural_Network:\n",
    "    def __init__(self, input_neurons, hidden_neurons, output_neurons, learning_rate):\n",
    "        # matrix with shape (hidden_neurons, input_neurons) for weights\n",
    "        self.weights_input_hidden = np.random.uniform(-0.5, 0.5, (hidden_neurons, input_neurons))\n",
    "        # matrix with shape (hidden_neurons, input_neurons) for weights\n",
    "        self.weights_hidden_output = np.random.uniform(-0.5, 0.5, (output_neurons, hidden_neurons))\n",
    "        # learning rate\n",
    "        self.lr = learning_rate\n",
    "        \n",
    "    def activation(self, x):\n",
    "        return 1/ (1+np.exp(-x))\n",
    "    \n",
    "    def forward(self, inputs):\n",
    "        self.inputs = np.array(inputs, ndmin=2).T # Transpose the input to (13, 1)\n",
    "    \n",
    "        hidden_inputs = np.dot(self.weights_input_hidden, self.inputs)\n",
    "        self.hidden_outputs = self.activation(hidden_inputs)\n",
    "    \n",
    "        final_inputs = np.dot(self.weights_hidden_output, self.hidden_outputs)\n",
    "        final_output = final_inputs\n",
    "        return final_output\n",
    "    \n",
    "    def backward(self, target, prediction):\n",
    "        output_error = target - prediction\n",
    "        hidden_grad = np.dot(self.weights_hidden_output.T, output_error) * (self.hidden_outputs * (1 - self.hidden_outputs))\n",
    "        \n",
    "        self.weights_hidden_output += (self.lr) * output_error, self.hidden_outputs.T\n",
    "        self.weights_input_hidden += (self.lr) * hidden_grad, self.inputs.T\n",
    "\n",
    "    \n",
    "    def MSE(self, target, prediction):\n",
    "        return np.sum(target - prediction **2) / len(target)\n",
    "        "
   ]
  },
  {
   "cell_type": "code",
   "execution_count": 179,
   "metadata": {},
   "outputs": [],
   "source": [
    "input_neurons = x_train.shape[1]\n",
    "hidden_neurons = 32\n",
    "output_neurons = 1\n",
    "learning_rate = 0.1\n",
    "epochs = 50"
   ]
  },
  {
   "cell_type": "code",
   "execution_count": 180,
   "metadata": {},
   "outputs": [
    {
     "data": {
      "text/plain": [
       "<__main__.Neural_Network at 0x24a13578710>"
      ]
     },
     "execution_count": 180,
     "metadata": {},
     "output_type": "execute_result"
    }
   ],
   "source": [
    "model = Neural_Network(input_neurons, hidden_neurons, output_neurons, learning_rate)\n",
    "model"
   ]
  },
  {
   "cell_type": "code",
   "execution_count": null,
   "metadata": {},
   "outputs": [],
   "source": [
    "for epoch in range(epochs):\n",
    "    batch = np.random.choice(x_train.index, size= 8)\n",
    "    for record, target in zip(x_train.loc[batch], \n",
    "                              y_train.loc[batch].values):\n",
    "        preds = model.forward(record)\n",
    "        model.backward(target, preds)\n",
    "    \n",
    "    train_loss = model.MSE(y_train, model.forward(x_train))\n",
    "    valid_loss = model.MSE(y_test, model.forward(x_test))\n",
    "    "
   ]
  }
 ],
 "metadata": {
  "kernelspec": {
   "display_name": "Python 3",
   "language": "python",
   "name": "python3"
  },
  "language_info": {
   "codemirror_mode": {
    "name": "ipython",
    "version": 3
   },
   "file_extension": ".py",
   "mimetype": "text/x-python",
   "name": "python",
   "nbconvert_exporter": "python",
   "pygments_lexer": "ipython3",
   "version": "3.11.4"
  },
  "orig_nbformat": 4
 },
 "nbformat": 4,
 "nbformat_minor": 2
}
